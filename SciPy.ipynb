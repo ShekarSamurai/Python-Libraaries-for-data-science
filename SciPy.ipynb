{
 "cells": [
  {
   "cell_type": "markdown",
   "id": "lasting-implementation",
   "metadata": {},
   "source": [
    "#### What?\n",
    ".SciPy is a scientific computation library \n",
    "SciPy stands for Scientific Python.\n",
    "\n",
    "It provides more utility functions for optimization, stats and signal processing.\n",
    "\n",
    "Like NumPy, SciPy is open source so we can use it freely.\n",
    "\n",
    "SciPy was created by NumPy's creator Travis Olliphant.\n",
    "\n",
    "#### Why?\n",
    "SciPy has optimized and added functions that are frequently used in NumPy and Data Science.\n",
    "\n",
    "#### Installation\n",
    "pip install scipy\n",
    "\n",
    "##### Import SciPy\n",
    "from scipy import constants\n",
    "\n",
    "### Unit Categories\n",
    "\n",
    "The units are placed under these categories:\n",
    "\n",
    "Metric\n",
    "\n",
    "Binary\n",
    "\n",
    "Mass\n",
    "\n",
    "Angle\n",
    "\n",
    "Time\n",
    "\n",
    "Length\n",
    "\n",
    "Pressure\n",
    "\n",
    "Volume\n",
    "\n",
    "Speed\n",
    "\n",
    "Temperature\n",
    "\n",
    "Energy\n",
    "\n",
    "Power\n",
    "\n",
    "Force\n"
   ]
  },
  {
   "cell_type": "code",
   "execution_count": 1,
   "id": "hundred-mailman",
   "metadata": {},
   "outputs": [],
   "source": [
    "from scipy import constants"
   ]
  },
  {
   "cell_type": "code",
   "execution_count": 10,
   "id": "decreased-garlic",
   "metadata": {},
   "outputs": [
    {
     "name": "stdout",
     "output_type": "stream",
     "text": [
      "0.001\n",
      "3.141592653589793\n",
      "1e+24\n",
      "1024\n",
      "0.001\n",
      "0.017453292519943295\n",
      "60.0\n",
      "0.0254\n",
      "101325.0\n",
      "10000.0\n",
      "0.2777777777777778\n",
      "273.15\n",
      "1.602176634e-19\n",
      "745.6998715822701\n",
      "1e-05\n"
     ]
    }
   ],
   "source": [
    "print(constants.liter)  ## Valume\n",
    "print(constants.pi)\n",
    "print(constants.yotta)  ###Metric (SI) Prefixes:\n",
    "print(constants.kibi)  ### Binary Prefixes:\n",
    "print(constants.gram)   ##Weight\n",
    "print(constants.degree)  ##Angle\n",
    "print(constants.minute)  ## Time\n",
    "print(constants.inch)  ### Inch\n",
    "print(constants.atm)   ###Pressure\n",
    "print(constants.hectare)  ##Area\n",
    "print(constants.kmh)   ###Speed\n",
    "print(constants.zero_Celsius) ##Temp\n",
    "print(constants.eV)   ## Energy\n",
    "print(constants.hp)    ###Power\n",
    "print(constants.dyn)  ###Force"
   ]
  },
  {
   "cell_type": "markdown",
   "id": "rapid-relationship",
   "metadata": {},
   "source": [
    "### Optimizers in SciPy\n"
   ]
  },
  {
   "cell_type": "code",
   "execution_count": 11,
   "id": "occupational-battle",
   "metadata": {},
   "outputs": [
    {
     "name": "stdout",
     "output_type": "stream",
     "text": [
      "[-0.73908513]\n"
     ]
    }
   ],
   "source": [
    "####Find root of the equation x + cos(x):\n",
    "from scipy.optimize import root\n",
    "from math import cos\n",
    "\n",
    "def eqn(x):\n",
    "  return x + cos(x)\n",
    "\n",
    "myroot = root(eqn, 0)\n",
    "\n",
    "print(myroot.x)"
   ]
  },
  {
   "cell_type": "markdown",
   "id": "atlantic-mississippi",
   "metadata": {},
   "source": [
    "CSC - Compressed Sparse Column. For efficient arithmetic, fast column slicing.\n",
    "\n",
    "CSR - Compressed Sparse Row. For fast row slicing, faster matrix vector products\n",
    "\n",
    "We will use the CSR matrix in this tutorial."
   ]
  },
  {
   "cell_type": "code",
   "execution_count": 12,
   "id": "renewable-evening",
   "metadata": {},
   "outputs": [
    {
     "name": "stdout",
     "output_type": "stream",
     "text": [
      "  (0, 5)\t1\n",
      "  (0, 6)\t1\n",
      "  (0, 8)\t2\n"
     ]
    }
   ],
   "source": [
    "import numpy as np\n",
    "from scipy.sparse import csr_matrix\n",
    "\n",
    "arr = np.array([0, 0, 0, 0, 0, 1, 1, 0, 2])\n",
    "\n",
    "print(csr_matrix(arr))"
   ]
  },
  {
   "cell_type": "code",
   "execution_count": null,
   "id": "insured-oasis",
   "metadata": {},
   "outputs": [],
   "source": []
  }
 ],
 "metadata": {
  "kernelspec": {
   "display_name": "Python 3",
   "language": "python",
   "name": "python3"
  },
  "language_info": {
   "codemirror_mode": {
    "name": "ipython",
    "version": 3
   },
   "file_extension": ".py",
   "mimetype": "text/x-python",
   "name": "python",
   "nbconvert_exporter": "python",
   "pygments_lexer": "ipython3",
   "version": "3.8.5"
  }
 },
 "nbformat": 4,
 "nbformat_minor": 5
}
